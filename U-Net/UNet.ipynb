{
 "cells": [
  {
   "cell_type": "code",
   "execution_count": 5,
   "metadata": {},
   "outputs": [],
   "source": [
    "import torch\n",
    "import torch.nn as nn\n",
    "import torch.nn.functional as F\n",
    "from torchkeras import summary"
   ]
  },
  {
   "cell_type": "markdown",
   "metadata": {},
   "source": [
    "# 2-Conv"
   ]
  },
  {
   "cell_type": "code",
   "execution_count": 6,
   "metadata": {},
   "outputs": [],
   "source": [
    "class ConV2(nn.Module):\n",
    "    def __init__(self, in_channels, out_channels):\n",
    "        super().__init__()\n",
    "        self.conv2 = nn.Sequential(\n",
    "            nn.Conv2d(in_channels, out_channels, kernel_size=3, stride=1, padding=1, padding_mode='reflect'),\n",
    "            nn.BatchNorm2d(out_channels),\n",
    "            nn.ReLU(),\n",
    "            nn.Conv2d(out_channels, out_channels, kernel_size=3, stride=1, padding=1, padding_mode='reflect'),\n",
    "            nn.BatchNorm2d(out_channels),\n",
    "            nn.ReLU()\n",
    "        )\n",
    "    \n",
    "    def forward(self, x):\n",
    "        return self.conv2(x)"
   ]
  },
  {
   "cell_type": "markdown",
   "metadata": {},
   "source": [
    "# DownSample"
   ]
  },
  {
   "cell_type": "code",
   "execution_count": 7,
   "metadata": {},
   "outputs": [],
   "source": [
    "class DownSample(nn.Module):\n",
    "    def __init__(self, in_channels, out_channels):\n",
    "        super().__init__()\n",
    "        self.downsample = nn.Sequential(\n",
    "            # Use conv with stride 2  to downsample\n",
    "            nn.Conv2d(in_channels, in_channels, kernel_size=3, stride=2, padding=1, padding_mode='reflect' ),\n",
    "            ConV2(in_channels, out_channels)\n",
    "        )\n",
    "\n",
    "    def forward(self,x):\n",
    "        return self.downsample(x)"
   ]
  },
  {
   "cell_type": "markdown",
   "metadata": {},
   "source": [
    "# UpSample"
   ]
  },
  {
   "cell_type": "code",
   "execution_count": null,
   "metadata": {},
   "outputs": [],
   "source": [
    "class UpSample(nn.Module):\n",
    "    def __init__(self, in_channels, out_channels):\n",
    "        super().__init__()\n",
    "        self.upsample = nn.Upsample(scale_factor=2, mode='nearest')\n",
    "        # ==========================Attention==================================\n",
    "        # after concat, the number of channel was changed\n",
    "        self.conv = ConV2(in_channels + in_channels//2, out_channels)\n",
    "\n",
    "    def forward(self, x1, x2):\n",
    "        x1 = self.upsample(x1)\n",
    "        '''\n",
    "                Edge Padding —————— 71 / 2  = 35\n",
    "        BCHW\n",
    "                Left Edge : add  diff_W//2  pixel\n",
    "                Right Edge : add  diff_W - diff_W//2 pixel\n",
    "                Top Edge : add  diff_H//2  pixel\n",
    "                Right Edge : add  diff_H - diff_H//2 pixel\n",
    "            \n",
    "        IF x2.size < x1.size , diff < 0 , still useful\n",
    "        '''\n",
    "        diff_H = x2.size()[2] - x1.size()[2]\n",
    "        diff_W = x2.size()[3] - x1.size()[3]\n",
    "        \n",
    "        x1 = F.pad(x1,pad=[diff_W//2, diff_W-diff_W//2, diff_H, diff_H-diff_H//2]) \n",
    "        x = torch.cat([x1, x2], dim=1)\n",
    "        return self.conv(x)"
   ]
  },
  {
   "cell_type": "markdown",
   "metadata": {},
   "source": [
    "# OutConv"
   ]
  },
  {
   "cell_type": "code",
   "execution_count": 9,
   "metadata": {},
   "outputs": [],
   "source": [
    "class OutConv(nn.Module):\n",
    "    def __init__(self, in_channels, out_channels):\n",
    "        super().__init__()\n",
    "        self.out = nn.Conv2d(in_channels, out_channels, kernel_size=1)\n",
    "\n",
    "    def forward(self, x):\n",
    "        return self.out(x)"
   ]
  },
  {
   "cell_type": "markdown",
   "metadata": {},
   "source": [
    "# U-Net"
   ]
  },
  {
   "cell_type": "code",
   "execution_count": 10,
   "metadata": {},
   "outputs": [],
   "source": [
    "class UNet(nn.Module):\n",
    "    def __init__(self, in_channels, out_channels):\n",
    "        super().__init__()\n",
    "        self.con = ConV2(in_channels, 64)\n",
    "        self.down1 = DownSample(64, 128)\n",
    "        self.down2 = DownSample(128, 256)\n",
    "        self.down3 = DownSample(256, 512)\n",
    "        self.midout = OutConv(512, 512)\n",
    "        self.up1 = UpSample(512, 256)\n",
    "        self.up2 = UpSample(256, 128)\n",
    "        self.up3 = UpSample(128, 64)\n",
    "        self.out = OutConv(64, out_channels)\n",
    "\n",
    "    def forward(self, x0):\n",
    "        x1 = self.con(x0)\n",
    "        x2 = self.down1(x1)\n",
    "        x3 = self.down2(x2)\n",
    "        x4 = self.down3(x3)\n",
    "        x5 = self.midout(x4)\n",
    "        x = self.up1(x5, x3)\n",
    "        x = self.up2(x, x2)\n",
    "        x = self.up3(x, x1)\n",
    "        x = self.out(x)\n",
    "        return x"
   ]
  },
  {
   "cell_type": "code",
   "execution_count": 11,
   "metadata": {},
   "outputs": [
    {
     "name": "stdout",
     "output_type": "stream",
     "text": [
      "torch.Size([2, 3, 256, 256])\n"
     ]
    }
   ],
   "source": [
    "unet = UNet(3,3)\n",
    "x = torch.rand(size=(2,3,256,256))\n",
    "print(unet(x).shape)"
   ]
  },
  {
   "cell_type": "code",
   "execution_count": 12,
   "metadata": {},
   "outputs": [
    {
     "name": "stdout",
     "output_type": "stream",
     "text": [
      "--------------------------------------------------------------------------\n",
      "Layer (type)                            Output Shape              Param #\n",
      "==========================================================================\n",
      "Conv2d-1                          [-1, 64, 572, 572]                1,792\n",
      "BatchNorm2d-2                     [-1, 64, 572, 572]                  128\n",
      "ReLU-3                            [-1, 64, 572, 572]                    0\n",
      "Conv2d-4                          [-1, 64, 572, 572]               36,928\n",
      "BatchNorm2d-5                     [-1, 64, 572, 572]                  128\n",
      "ReLU-6                            [-1, 64, 572, 572]                    0\n",
      "Conv2d-7                          [-1, 64, 286, 286]               36,928\n",
      "Conv2d-8                         [-1, 128, 286, 286]               73,856\n",
      "BatchNorm2d-9                    [-1, 128, 286, 286]                  256\n",
      "ReLU-10                          [-1, 128, 286, 286]                    0\n",
      "Conv2d-11                        [-1, 128, 286, 286]              147,584\n",
      "BatchNorm2d-12                   [-1, 128, 286, 286]                  256\n",
      "ReLU-13                          [-1, 128, 286, 286]                    0\n",
      "Conv2d-14                        [-1, 128, 143, 143]              147,584\n",
      "Conv2d-15                        [-1, 256, 143, 143]              295,168\n",
      "BatchNorm2d-16                   [-1, 256, 143, 143]                  512\n",
      "ReLU-17                          [-1, 256, 143, 143]                    0\n",
      "Conv2d-18                        [-1, 256, 143, 143]              590,080\n",
      "BatchNorm2d-19                   [-1, 256, 143, 143]                  512\n",
      "ReLU-20                          [-1, 256, 143, 143]                    0\n",
      "Conv2d-21                          [-1, 256, 72, 72]              590,080\n",
      "Conv2d-22                          [-1, 512, 72, 72]            1,180,160\n",
      "BatchNorm2d-23                     [-1, 512, 72, 72]                1,024\n",
      "ReLU-24                            [-1, 512, 72, 72]                    0\n",
      "Conv2d-25                          [-1, 512, 72, 72]            2,359,808\n",
      "BatchNorm2d-26                     [-1, 512, 72, 72]                1,024\n",
      "ReLU-27                            [-1, 512, 72, 72]                    0\n",
      "Conv2d-28                          [-1, 512, 72, 72]              262,656\n",
      "Upsample-29                      [-1, 512, 144, 144]                    0\n",
      "Conv2d-30                        [-1, 256, 143, 143]            1,769,728\n",
      "BatchNorm2d-31                   [-1, 256, 143, 143]                  512\n",
      "ReLU-32                          [-1, 256, 143, 143]                    0\n",
      "Conv2d-33                        [-1, 256, 143, 143]              590,080\n",
      "BatchNorm2d-34                   [-1, 256, 143, 143]                  512\n",
      "ReLU-35                          [-1, 256, 143, 143]                    0\n",
      "Upsample-36                      [-1, 256, 286, 286]                    0\n",
      "Conv2d-37                        [-1, 128, 286, 286]              442,496\n",
      "BatchNorm2d-38                   [-1, 128, 286, 286]                  256\n",
      "ReLU-39                          [-1, 128, 286, 286]                    0\n",
      "Conv2d-40                        [-1, 128, 286, 286]              147,584\n",
      "BatchNorm2d-41                   [-1, 128, 286, 286]                  256\n",
      "ReLU-42                          [-1, 128, 286, 286]                    0\n",
      "Upsample-43                      [-1, 128, 572, 572]                    0\n",
      "Conv2d-44                         [-1, 64, 572, 572]              110,656\n",
      "BatchNorm2d-45                    [-1, 64, 572, 572]                  128\n",
      "ReLU-46                           [-1, 64, 572, 572]                    0\n",
      "Conv2d-47                         [-1, 64, 572, 572]               36,928\n",
      "BatchNorm2d-48                    [-1, 64, 572, 572]                  128\n",
      "ReLU-49                           [-1, 64, 572, 572]                    0\n",
      "Conv2d-50                          [-1, 3, 572, 572]                  195\n",
      "==========================================================================\n",
      "Total params: 8,825,923\n",
      "Trainable params: 8,825,923\n",
      "Non-trainable params: 0\n",
      "--------------------------------------------------------------------------\n",
      "Input size (MB): 0.000076\n",
      "Forward/backward pass size (MB): 4134.460327\n",
      "Params size (MB): 33.668224\n",
      "Estimated Total Size (MB): 4168.128628\n",
      "--------------------------------------------------------------------------\n"
     ]
    },
    {
     "data": {
      "text/plain": [
       "'--------------------------------------------------------------------------\\nLayer (type)                            Output Shape              Param #\\n==========================================================================\\nConv2d-1                          [-1, 64, 572, 572]                1,792\\nBatchNorm2d-2                     [-1, 64, 572, 572]                  128\\nReLU-3                            [-1, 64, 572, 572]                    0\\nConv2d-4                          [-1, 64, 572, 572]               36,928\\nBatchNorm2d-5                     [-1, 64, 572, 572]                  128\\nReLU-6                            [-1, 64, 572, 572]                    0\\nConv2d-7                          [-1, 64, 286, 286]               36,928\\nConv2d-8                         [-1, 128, 286, 286]               73,856\\nBatchNorm2d-9                    [-1, 128, 286, 286]                  256\\nReLU-10                          [-1, 128, 286, 286]                    0\\nConv2d-11                        [-1, 128, 286, 286]              147,584\\nBatchNorm2d-12                   [-1, 128, 286, 286]                  256\\nReLU-13                          [-1, 128, 286, 286]                    0\\nConv2d-14                        [-1, 128, 143, 143]              147,584\\nConv2d-15                        [-1, 256, 143, 143]              295,168\\nBatchNorm2d-16                   [-1, 256, 143, 143]                  512\\nReLU-17                          [-1, 256, 143, 143]                    0\\nConv2d-18                        [-1, 256, 143, 143]              590,080\\nBatchNorm2d-19                   [-1, 256, 143, 143]                  512\\nReLU-20                          [-1, 256, 143, 143]                    0\\nConv2d-21                          [-1, 256, 72, 72]              590,080\\nConv2d-22                          [-1, 512, 72, 72]            1,180,160\\nBatchNorm2d-23                     [-1, 512, 72, 72]                1,024\\nReLU-24                            [-1, 512, 72, 72]                    0\\nConv2d-25                          [-1, 512, 72, 72]            2,359,808\\nBatchNorm2d-26                     [-1, 512, 72, 72]                1,024\\nReLU-27                            [-1, 512, 72, 72]                    0\\nConv2d-28                          [-1, 512, 72, 72]              262,656\\nUpsample-29                      [-1, 512, 144, 144]                    0\\nConv2d-30                        [-1, 256, 143, 143]            1,769,728\\nBatchNorm2d-31                   [-1, 256, 143, 143]                  512\\nReLU-32                          [-1, 256, 143, 143]                    0\\nConv2d-33                        [-1, 256, 143, 143]              590,080\\nBatchNorm2d-34                   [-1, 256, 143, 143]                  512\\nReLU-35                          [-1, 256, 143, 143]                    0\\nUpsample-36                      [-1, 256, 286, 286]                    0\\nConv2d-37                        [-1, 128, 286, 286]              442,496\\nBatchNorm2d-38                   [-1, 128, 286, 286]                  256\\nReLU-39                          [-1, 128, 286, 286]                    0\\nConv2d-40                        [-1, 128, 286, 286]              147,584\\nBatchNorm2d-41                   [-1, 128, 286, 286]                  256\\nReLU-42                          [-1, 128, 286, 286]                    0\\nUpsample-43                      [-1, 128, 572, 572]                    0\\nConv2d-44                         [-1, 64, 572, 572]              110,656\\nBatchNorm2d-45                    [-1, 64, 572, 572]                  128\\nReLU-46                           [-1, 64, 572, 572]                    0\\nConv2d-47                         [-1, 64, 572, 572]               36,928\\nBatchNorm2d-48                    [-1, 64, 572, 572]                  128\\nReLU-49                           [-1, 64, 572, 572]                    0\\nConv2d-50                          [-1, 3, 572, 572]                  195\\n==========================================================================\\nTotal params: 8,825,923\\nTrainable params: 8,825,923\\nNon-trainable params: 0\\n--------------------------------------------------------------------------\\nInput size (MB): 0.000076\\nForward/backward pass size (MB): 4134.460327\\nParams size (MB): 33.668224\\nEstimated Total Size (MB): 4168.128628\\n--------------------------------------------------------------------------'"
      ]
     },
     "execution_count": 12,
     "metadata": {},
     "output_type": "execute_result"
    }
   ],
   "source": [
    "unet = UNet(3,3)\n",
    "summary(unet, input_data=torch.rand(size=(2,3,572,572)))"
   ]
  }
 ],
 "metadata": {
  "kernelspec": {
   "display_name": "torch_env",
   "language": "python",
   "name": "python3"
  },
  "language_info": {
   "codemirror_mode": {
    "name": "ipython",
    "version": 3
   },
   "file_extension": ".py",
   "mimetype": "text/x-python",
   "name": "python",
   "nbconvert_exporter": "python",
   "pygments_lexer": "ipython3",
   "version": "3.10.16"
  }
 },
 "nbformat": 4,
 "nbformat_minor": 2
}
